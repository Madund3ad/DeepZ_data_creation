{
 "cells": [
  {
   "cell_type": "markdown",
   "metadata": {},
   "source": [
    "# Download all files"
   ]
  },
  {
   "cell_type": "code",
   "execution_count": null,
   "metadata": {
    "scrolled": true
   },
   "outputs": [],
   "source": [
    "!wget http://dbarchive.biosciencedbc.jp/kyushu-u/metadata/experimentList.tab -O ../data/ChipSeq/experimentList.tab"
   ]
  },
  {
   "cell_type": "code",
   "execution_count": null,
   "metadata": {},
   "outputs": [],
   "source": [
    "!wget http://dbarchive.biosciencedbc.jp/kyushu-u/metadata/fileList.tab -O ../data/ChipSeq/fileList.tab"
   ]
  },
  {
   "cell_type": "code",
   "execution_count": null,
   "metadata": {},
   "outputs": [],
   "source": [
    "!wget http://dbarchive.biosciencedbc.jp/kyushu-u/hg19/allPeaks_light/allPeaks_light.hg19.05.bed.gz -O ../data/ChipSeq/allPeaks_light.hg19.05.bed.gz"
   ]
  },
  {
   "cell_type": "code",
   "execution_count": null,
   "metadata": {},
   "outputs": [],
   "source": []
  },
  {
   "cell_type": "markdown",
   "metadata": {},
   "source": [
    "# Processing"
   ]
  },
  {
   "cell_type": "code",
   "execution_count": 4,
   "metadata": {},
   "outputs": [],
   "source": [
    "import pandas as pd\n",
    "from tqdm import tqdm_notebook\n",
    "from collections import defaultdict\n",
    "import numpy as np\n",
    "from sparse_vector.sparse_vector import SparseVector\n",
    "import os\n",
    "from joblib import load, dump\n",
    "\n",
    "taget_antigen = ['DNase-seq', 'Histone', 'RNA polymerase', 'TFs and others']\n",
    "chroms = [f'chr{i}' for i in list(range(1, 23)) + ['X', 'Y','M']]"
   ]
  },
  {
   "cell_type": "code",
   "execution_count": 5,
   "metadata": {},
   "outputs": [],
   "source": [
    "experiments = []\n",
    "for line in open('../data/ChipSeq/experimentList.tab'):\n",
    "    experiments.append(line.split('\\t')[:9])\n",
    "    \n",
    "experiments = pd.DataFrame(experiments, columns = [\"Experiments ID\", \n",
    "                                                     \"Genome assembly\",\n",
    "                                                     \"Antigen class\",\n",
    "                                                     \"Antigen\",\n",
    "                                                     \"Cell type class\",\n",
    "                                                     \"Cell type\",\n",
    "                                                     \"Cell type description\",\n",
    "                                                     \"Logs\",\n",
    "                                                     \"Title\"])\n",
    "\n",
    "hg19_exp = experiments[experiments[\"Genome assembly\"] == 'hg19']\n",
    "hg19_exp = hg19_exp[hg19_exp[\"Antigen class\"].isin(taget_antigen)]\n",
    "\n",
    "hg19_grb = hg19_exp.groupby('Antigen class')"
   ]
  },
  {
   "cell_type": "code",
   "execution_count": 6,
   "metadata": {},
   "outputs": [],
   "source": [
    "exp = {}\n",
    "for key, df in hg19_exp.groupby([\"Antigen class\", 'Antigen']):\n",
    "    for ID in df[\"Experiments ID\"].values:\n",
    "        exp[ID] = key"
   ]
  },
  {
   "cell_type": "code",
   "execution_count": 7,
   "metadata": {},
   "outputs": [],
   "source": [
    "all_feutures = list(hg19_exp.groupby([\"Antigen class\", 'Antigen']).groups.keys())\n",
    "\n",
    "first_part = set(all_feutures[:len(all_feutures) // 2])\n",
    "secon_part = set(all_feutures[len(all_feutures) // 2:])\n",
    "\n",
    "first_part_exp = {i:exp[i] for i in exp if exp[i] in first_part}\n",
    "secon_part_exp = {i:exp[i] for i in exp if exp[i] in secon_part}"
   ]
  },
  {
   "cell_type": "code",
   "execution_count": 8,
   "metadata": {},
   "outputs": [
    {
     "ename": "FileNotFoundError",
     "evalue": "[Errno 2] No such file or directory: '../data/hg19_features/raw/TFs and others_CLOCK.bed'",
     "output_type": "error",
     "traceback": [
      "\u001b[0;31m---------------------------------------------------------------------------\u001b[0m",
      "\u001b[0;31mFileNotFoundError\u001b[0m                         Traceback (most recent call last)",
      "\u001b[0;32m<ipython-input-8-3f15adc872fe>\u001b[0m in \u001b[0;36m<module>\u001b[0;34m\u001b[0m\n\u001b[1;32m      1\u001b[0m \u001b[0mopen_files\u001b[0m \u001b[0;34m=\u001b[0m \u001b[0;34m{\u001b[0m\u001b[0;34m}\u001b[0m\u001b[0;34m\u001b[0m\u001b[0;34m\u001b[0m\u001b[0m\n\u001b[1;32m      2\u001b[0m \u001b[0;32mfor\u001b[0m \u001b[0mfile\u001b[0m \u001b[0;32min\u001b[0m \u001b[0mfirst_part\u001b[0m\u001b[0;34m:\u001b[0m\u001b[0;34m\u001b[0m\u001b[0;34m\u001b[0m\u001b[0m\n\u001b[0;32m----> 3\u001b[0;31m     \u001b[0mopen_files\u001b[0m\u001b[0;34m[\u001b[0m\u001b[0mfile\u001b[0m\u001b[0;34m]\u001b[0m \u001b[0;34m=\u001b[0m \u001b[0mopen\u001b[0m\u001b[0;34m(\u001b[0m\u001b[0;34mf\"../data/hg19_features/raw/{'_'.join(file)}.bed\"\u001b[0m\u001b[0;34m,\u001b[0m \u001b[0;34m'x'\u001b[0m\u001b[0;34m)\u001b[0m\u001b[0;34m\u001b[0m\u001b[0;34m\u001b[0m\u001b[0m\n\u001b[0m",
      "\u001b[0;31mFileNotFoundError\u001b[0m: [Errno 2] No such file or directory: '../data/hg19_features/raw/TFs and others_CLOCK.bed'"
     ]
    }
   ],
   "source": [
    "open_files = {}\n",
    "for file in first_part:\n",
    "    open_files[file] = open(f\"../data/hg19_features/raw/{'_'.join(file)}.bed\", 'x')\n"
   ]
  },
  {
   "cell_type": "code",
   "execution_count": 6,
   "metadata": {},
   "outputs": [
    {
     "data": {
      "application/vnd.jupyter.widget-view+json": {
       "model_id": "6f3ee5d8c4874126945218c5ff23ed8a",
       "version_major": 2,
       "version_minor": 0
      },
      "text/plain": [
       "HBox(children=(IntProgress(value=1, bar_style='info', max=1), HTML(value='')))"
      ]
     },
     "metadata": {},
     "output_type": "display_data"
    },
    {
     "name": "stdout",
     "output_type": "stream",
     "text": [
      "\n"
     ]
    }
   ],
   "source": [
    "for line in tqdm_notebook(open('../data/ChipSeq/allPeaks_light.hg19.05.bed')):\n",
    "    exp_name = line.split('\\t')[3]\n",
    "    if exp_name in first_part_exp:\n",
    "        open_files[first_part_exp[exp_name]].write(line)"
   ]
  },
  {
   "cell_type": "code",
   "execution_count": 7,
   "metadata": {},
   "outputs": [],
   "source": [
    "for file in open_files:\n",
    "    open_files[file].close()"
   ]
  },
  {
   "cell_type": "code",
   "execution_count": null,
   "metadata": {},
   "outputs": [],
   "source": []
  },
  {
   "cell_type": "code",
   "execution_count": 8,
   "metadata": {},
   "outputs": [],
   "source": [
    "open_files = {}\n",
    "for file in secon_part:\n",
    "    open_files[file] = open(f\"../data/hg19_features/raw/{'_'.join(file)}.bed\", 'x')\n"
   ]
  },
  {
   "cell_type": "code",
   "execution_count": 9,
   "metadata": {},
   "outputs": [
    {
     "data": {
      "application/vnd.jupyter.widget-view+json": {
       "model_id": "1648059977df42a98458ebb7c2ed3e7b",
       "version_major": 2,
       "version_minor": 0
      },
      "text/plain": [
       "HBox(children=(IntProgress(value=1, bar_style='info', max=1), HTML(value='')))"
      ]
     },
     "metadata": {},
     "output_type": "display_data"
    },
    {
     "name": "stdout",
     "output_type": "stream",
     "text": [
      "\n"
     ]
    }
   ],
   "source": [
    "for line in tqdm_notebook(open('../data/ChipSeq/allPeaks_light.hg19.05.bed')):\n",
    "    exp_name = line.split('\\t')[3]\n",
    "    if exp_name in secon_part_exp:\n",
    "        open_files[secon_part_exp[exp_name]].write(line)"
   ]
  },
  {
   "cell_type": "code",
   "execution_count": 10,
   "metadata": {},
   "outputs": [],
   "source": [
    "for file in open_files:\n",
    "    open_files[file].close()"
   ]
  },
  {
   "cell_type": "markdown",
   "metadata": {},
   "source": [
    "# DNA sequence downloading and processing"
   ]
  },
  {
   "cell_type": "code",
   "execution_count": 2,
   "metadata": {},
   "outputs": [
    {
     "data": {
      "application/vnd.jupyter.widget-view+json": {
       "model_id": "cf749772faed409eb76c092d680518d3",
       "version_major": 2,
       "version_minor": 0
      },
      "text/plain": [
       "HBox(children=(IntProgress(value=0, max=25), HTML(value='')))"
      ]
     },
     "metadata": {},
     "output_type": "display_data"
    },
    {
     "name": "stdout",
     "output_type": "stream",
     "text": [
      "\n"
     ]
    }
   ],
   "source": [
    "def chrom_reader(chrom):\n",
    "    return ''.join([i[:-1] for i in list(open(f'../data/hg19_dna/{chrom}.fa'))[1:]])\n",
    "\n",
    "dna = {chrom:chrom_reader(chrom) for chrom in tqdm_notebook(chroms)}\n",
    "lens_of_chroms = {chrom: len(dna[chrom]) for chrom in dna}\n",
    "del dna"
   ]
  },
  {
   "cell_type": "markdown",
   "metadata": {},
   "source": [
    "# Creating sparse vector"
   ]
  },
  {
   "cell_type": "code",
   "execution_count": null,
   "metadata": {},
   "outputs": [],
   "source": [
    "for file in tqdm_notebook(os.listdir('../data/hg19_features/raw/')):\n",
    "    df = pd.read_csv(f'../data/hg19_features/raw/{file}', header=None, sep='\\t')\n",
    "    loc_dd = {}\n",
    "    for chrom, sub_df in df.groupby(0):\n",
    "        if chrom in chroms:\n",
    "            vec = np.zeros(lens_of_chroms[chrom], dtype=np.int16)\n",
    "            for line in sub_df.values:\n",
    "                 vec[line[1]:line[2]] = np.maximum(vec[line[1]:line[2]], line[4])\n",
    "            loc_dd[chrom] = SparseVector(vec)\n",
    "    dump(loc_dd, f'../data/hg19_features/sparse/{file}.pkl')"
   ]
  },
  {
   "cell_type": "code",
   "execution_count": null,
   "metadata": {},
   "outputs": [],
   "source": []
  },
  {
   "cell_type": "code",
   "execution_count": null,
   "metadata": {},
   "outputs": [],
   "source": []
  },
  {
   "cell_type": "code",
   "execution_count": null,
   "metadata": {},
   "outputs": [],
   "source": []
  },
  {
   "cell_type": "code",
   "execution_count": null,
   "metadata": {},
   "outputs": [],
   "source": []
  },
  {
   "cell_type": "code",
   "execution_count": null,
   "metadata": {},
   "outputs": [],
   "source": []
  },
  {
   "cell_type": "code",
   "execution_count": null,
   "metadata": {},
   "outputs": [],
   "source": []
  },
  {
   "cell_type": "code",
   "execution_count": null,
   "metadata": {},
   "outputs": [],
   "source": []
  },
  {
   "cell_type": "code",
   "execution_count": null,
   "metadata": {},
   "outputs": [],
   "source": []
  },
  {
   "cell_type": "code",
   "execution_count": null,
   "metadata": {},
   "outputs": [],
   "source": []
  },
  {
   "cell_type": "code",
   "execution_count": null,
   "metadata": {},
   "outputs": [],
   "source": []
  }
 ],
 "metadata": {
  "kernelspec": {
   "display_name": "Python 3",
   "language": "python",
   "name": "python3"
  },
  "language_info": {
   "codemirror_mode": {
    "name": "ipython",
    "version": 3
   },
   "file_extension": ".py",
   "mimetype": "text/x-python",
   "name": "python",
   "nbconvert_exporter": "python",
   "pygments_lexer": "ipython3",
   "version": "3.7.4"
  }
 },
 "nbformat": 4,
 "nbformat_minor": 2
}
