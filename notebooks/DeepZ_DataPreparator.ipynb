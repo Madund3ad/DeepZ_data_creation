{
 "cells": [
  {
   "cell_type": "markdown",
   "metadata": {},
   "source": [
    "# Processing"
   ]
  },
  {
   "cell_type": "code",
   "execution_count": 1,
   "metadata": {},
   "outputs": [],
   "source": [
    "import pandas as pd\n",
    "from tqdm import tqdm_notebook, tqdm\n",
    "from collections import defaultdict\n",
    "import numpy as np\n",
    "from sparse_vector.sparse_vector import SparseVector\n",
    "import os\n",
    "from joblib import load, dump, Parallel, delayed\n",
    "\n",
    "taget_antigen = ['DNase-seq', 'Histone', 'RNA polymerase', 'TFs and others']\n",
    "chroms = [f'chr{i}' for i in list(range(1, 23)) + ['X', 'Y','M']]"
   ]
  },
  {
   "cell_type": "code",
   "execution_count": 2,
   "metadata": {},
   "outputs": [],
   "source": [
    "def chrom_reader(chrom):\n",
    "    files = sorted([i for i in os.listdir(f'../data/hg19_dna/') if f\"{chrom}_\" in i])\n",
    "    return ''.join([load(f\"../data/hg19_dna/{file}\") for file in files])"
   ]
  },
  {
   "cell_type": "markdown",
   "metadata": {},
   "source": [
    "# DNA sequence downloading and processing"
   ]
  },
  {
   "cell_type": "code",
   "execution_count": 3,
   "metadata": {},
   "outputs": [
    {
     "data": {
      "application/vnd.jupyter.widget-view+json": {
       "model_id": "16ce1a3a31a84f0abd6e18c62cb0d051",
       "version_major": 2,
       "version_minor": 0
      },
      "text/plain": [
       "HBox(children=(IntProgress(value=0, max=25), HTML(value='')))"
      ]
     },
     "metadata": {},
     "output_type": "display_data"
    },
    {
     "name": "stdout",
     "output_type": "stream",
     "text": [
      "\n"
     ]
    }
   ],
   "source": [
    "dna = {chrom:chrom_reader(chrom) for chrom in tqdm_notebook(chroms)}\n",
    "lens_of_chroms = {chrom: len(dna[chrom]) for chrom in dna}\n",
    "del dna"
   ]
  },
  {
   "cell_type": "code",
   "execution_count": 4,
   "metadata": {
    "scrolled": true
   },
   "outputs": [],
   "source": [
    "files = sorted(os.listdir('../data/hg19_features/raw/'))[::-1]\n",
    "\n",
    "def sparser(file, lens_of_chroms, chroms):\n",
    "#     print(file)\n",
    "    loc_dd = {}\n",
    "    df = pd.read_csv(f'../data/hg19_features/raw/{file}', header=None, sep='\\t')\n",
    "    for chrom, sub_df in tqdm(df.groupby(0), desc=file):\n",
    "        if chrom not in chroms:\n",
    "            continue\n",
    "        vec = np.zeros(lens_of_chroms[chrom])\n",
    "        for inter in sub_df.values:\n",
    "            vec[inter[1]:inter[2]+1] = np.maximum(vec[inter[1]:inter[2]+1], inter[4])\n",
    "        loc_dd[chrom] = SparseVector(vec)\n",
    "\n",
    "    dump(loc_dd, f'../data/hg19_features/sparse/{file[:-4]}.pkl', 3)    "
   ]
  },
  {
   "cell_type": "code",
   "execution_count": 5,
   "metadata": {},
   "outputs": [],
   "source": [
    "done_files = set([i[:-4] for i in os.listdir('../data/hg19_features/sparse/')])\n",
    "files = [file for file in files if file[:-4] not in done_files]"
   ]
  },
  {
   "cell_type": "code",
   "execution_count": null,
   "metadata": {},
   "outputs": [],
   "source": [
    "Parallel(n_jobs = -1, \n",
    "         backend= \"multiprocessing\")(delayed(sparser)(file, lens_of_chroms, chroms) \n",
    "                                      for file in files if file.endswith('.bed'))"
   ]
  },
  {
   "cell_type": "markdown",
   "metadata": {},
   "source": [
    "# ZDNA"
   ]
  },
  {
   "cell_type": "code",
   "execution_count": 19,
   "metadata": {},
   "outputs": [
    {
     "name": "stderr",
     "output_type": "stream",
     "text": [
      "100%|██████████| 24/24 [00:43<00:00,  1.82s/it]\n"
     ]
    },
    {
     "data": {
      "text/plain": [
       "['../data/hg19_zdna/sparse/ZDNA.pkl']"
      ]
     },
     "execution_count": 19,
     "metadata": {},
     "output_type": "execute_result"
    }
   ],
   "source": [
    "loc_dd = {chrm:SparseVector(lens_of_chroms[chrm]) for chrm in chroms}\n",
    "df = pd.read_csv(f'../data/hg19_zdna/raw/ZDNA.bed', sep=',')\n",
    "for chrom, sub_df in tqdm(df.groupby('chrom')):\n",
    "    if chrom not in chroms:\n",
    "        continue\n",
    "    vec = np.zeros(lens_of_chroms[chrom])\n",
    "    for inter in sub_df.values:\n",
    "        vec[inter[1]:inter[2]+1] = np.maximum(vec[inter[1]:inter[2]+1], 1)\n",
    "    loc_dd[chrom] = SparseVector(vec)\n",
    "\n",
    "dump(loc_dd, f'../data/hg19_zdna/sparse/ZDNA.pkl', 3)"
   ]
  },
  {
   "cell_type": "markdown",
   "metadata": {},
   "source": [
    "# ZHUNT"
   ]
  },
  {
   "cell_type": "code",
   "execution_count": 20,
   "metadata": {},
   "outputs": [
    {
     "name": "stderr",
     "output_type": "stream",
     "text": [
      "100%|██████████| 24/24 [00:43<00:00,  1.82s/it]\n"
     ]
    },
    {
     "data": {
      "text/plain": [
       "['../data/hg19_zdna/sparse/ZHUNT.pkl']"
      ]
     },
     "execution_count": 20,
     "metadata": {},
     "output_type": "execute_result"
    }
   ],
   "source": [
    "loc_dd = {chrm:SparseVector(lens_of_chroms[chrm]) for chrm in chroms}\n",
    "df = pd.read_csv(f'../data/hg19_zdna/raw/zhunt.bed', sep=',')\n",
    "for chrom, sub_df in tqdm(df.groupby('chrom')):\n",
    "    if chrom not in chroms:\n",
    "        continue\n",
    "    vec = np.zeros(lens_of_chroms[chrom])\n",
    "    for inter in sub_df.values:\n",
    "        vec[inter[1]:inter[2]+1] = np.maximum(vec[inter[1]:inter[2]+1], 1)\n",
    "    loc_dd[chrom] = SparseVector(vec)\n",
    "\n",
    "dump(loc_dd, f'../data/hg19_zdna/sparse/ZHUNT.pkl', 3)"
   ]
  },
  {
   "cell_type": "code",
   "execution_count": null,
   "metadata": {},
   "outputs": [],
   "source": []
  }
 ],
 "metadata": {
  "kernelspec": {
   "display_name": "Python 3",
   "language": "python",
   "name": "python3"
  },
  "language_info": {
   "codemirror_mode": {
    "name": "ipython",
    "version": 3
   },
   "file_extension": ".py",
   "mimetype": "text/x-python",
   "name": "python",
   "nbconvert_exporter": "python",
   "pygments_lexer": "ipython3",
   "version": "3.7.4"
  }
 },
 "nbformat": 4,
 "nbformat_minor": 2
}
